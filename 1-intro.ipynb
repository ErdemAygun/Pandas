{
 "cells": [
  {
   "cell_type": "markdown",
   "id": "67b09b3d",
   "metadata": {},
   "source": [
    "# Pandas intro\n",
    "\n",
    "Pandas consists of two main data structures:\n",
    "- Series\n",
    "- DataFrame"
   ]
  },
  {
   "cell_type": "markdown",
   "id": "a3a8331a",
   "metadata": {},
   "source": [
    "## Series"
   ]
  },
  {
   "cell_type": "code",
   "execution_count": 1,
   "id": "78799f57",
   "metadata": {},
   "outputs": [],
   "source": [
    "import pandas as pd"
   ]
  },
  {
   "cell_type": "code",
   "execution_count": 2,
   "id": "15af85c4",
   "metadata": {},
   "outputs": [
    {
     "data": {
      "text/plain": [
       "0     Peter\n",
       "1      John\n",
       "2       Tom\n",
       "3    Melisa\n",
       "4       Ann\n",
       "dtype: object"
      ]
     },
     "execution_count": 2,
     "metadata": {},
     "output_type": "execute_result"
    }
   ],
   "source": [
    "names = pd.Series(['Peter', 'John', 'Tom', 'Melisa', 'Ann'])\n",
    "names"
   ]
  },
  {
   "cell_type": "code",
   "execution_count": 3,
   "id": "698f0ea5",
   "metadata": {},
   "outputs": [
    {
     "data": {
      "text/plain": [
       "0      10\n",
       "1      -1\n",
       "2     123\n",
       "3    -524\n",
       "4    1024\n",
       "dtype: int64"
      ]
     },
     "execution_count": 3,
     "metadata": {},
     "output_type": "execute_result"
    }
   ],
   "source": [
    "numbers = pd.Series([10, -1, 123, -524, 1024])\n",
    "numbers"
   ]
  },
  {
   "cell_type": "code",
   "execution_count": 4,
   "id": "b3af8969",
   "metadata": {},
   "outputs": [
    {
     "data": {
      "text/plain": [
       "Poland      38123543\n",
       "Germany     82465123\n",
       "Russia     150872112\n",
       "USA        320465123\n",
       "UK          62649122\n",
       "dtype: int64"
      ]
     },
     "execution_count": 4,
     "metadata": {},
     "output_type": "execute_result"
    }
   ],
   "source": [
    "countries = [\"Poland\", \"Germany\", \"Russia\", \"USA\", \"UK\"]\n",
    "population = [38_123_543, 82_465_123, 150_872_112, 320_465_123, 62_649_122]\n",
    "s = pd.Series(population, countries)\n",
    "s"
   ]
  },
  {
   "cell_type": "markdown",
   "id": "4d92300b",
   "metadata": {},
   "source": [
    "What we can do on a Series object?\n",
    "- use build-in methods like mean()\n",
    "- fetch elements from the Series using index\n",
    "- filter elements"
   ]
  },
  {
   "cell_type": "code",
   "execution_count": 5,
   "id": "cc27dd10",
   "metadata": {},
   "outputs": [
    {
     "data": {
      "text/plain": [
       "130915004.6"
      ]
     },
     "execution_count": 5,
     "metadata": {},
     "output_type": "execute_result"
    }
   ],
   "source": [
    "s.mean()"
   ]
  },
  {
   "cell_type": "code",
   "execution_count": 6,
   "id": "a5dd3961",
   "metadata": {},
   "outputs": [
    {
     "data": {
      "text/plain": [
       "Russia    150872112\n",
       "USA       320465123\n",
       "dtype: int64"
      ]
     },
     "execution_count": 6,
     "metadata": {},
     "output_type": "execute_result"
    }
   ],
   "source": [
    "s[s > 100_000_000]"
   ]
  },
  {
   "cell_type": "markdown",
   "id": "a425170e",
   "metadata": {},
   "source": [
    "## DataFrame\n",
    "\n",
    "DataFrame is a data structure that is build with Series. We are combining several Series together to have one DataFrame. The index is shared between all Series."
   ]
  },
  {
   "cell_type": "code",
   "execution_count": 8,
   "id": "b90dd970",
   "metadata": {},
   "outputs": [
    {
     "data": {
      "text/html": [
       "<div>\n",
       "<style scoped>\n",
       "    .dataframe tbody tr th:only-of-type {\n",
       "        vertical-align: middle;\n",
       "    }\n",
       "\n",
       "    .dataframe tbody tr th {\n",
       "        vertical-align: top;\n",
       "    }\n",
       "\n",
       "    .dataframe thead th {\n",
       "        text-align: right;\n",
       "    }\n",
       "</style>\n",
       "<table border=\"1\" class=\"dataframe\">\n",
       "  <thead>\n",
       "    <tr style=\"text-align: right;\">\n",
       "      <th></th>\n",
       "      <th>Name</th>\n",
       "      <th>Age</th>\n",
       "      <th>Gender</th>\n",
       "    </tr>\n",
       "  </thead>\n",
       "  <tbody>\n",
       "    <tr>\n",
       "      <th>0</th>\n",
       "      <td>John</td>\n",
       "      <td>20</td>\n",
       "      <td>M</td>\n",
       "    </tr>\n",
       "    <tr>\n",
       "      <th>1</th>\n",
       "      <td>Ann</td>\n",
       "      <td>25</td>\n",
       "      <td>F</td>\n",
       "    </tr>\n",
       "    <tr>\n",
       "      <th>2</th>\n",
       "      <td>Adam</td>\n",
       "      <td>30</td>\n",
       "      <td>M</td>\n",
       "    </tr>\n",
       "    <tr>\n",
       "      <th>3</th>\n",
       "      <td>Melisa</td>\n",
       "      <td>35</td>\n",
       "      <td>F</td>\n",
       "    </tr>\n",
       "  </tbody>\n",
       "</table>\n",
       "</div>"
      ],
      "text/plain": [
       "     Name  Age Gender\n",
       "0    John   20      M\n",
       "1     Ann   25      F\n",
       "2    Adam   30      M\n",
       "3  Melisa   35      F"
      ]
     },
     "execution_count": 8,
     "metadata": {},
     "output_type": "execute_result"
    }
   ],
   "source": [
    "people = pd.DataFrame([\n",
    "    ['John', 20, 'M'],\n",
    "    ['Ann', 25, 'F'],\n",
    "    ['Adam', 30, 'M'],\n",
    "    ['Melisa', 35, 'F']\n",
    "], columns=['Name', 'Age', 'Gender'])\n",
    "people"
   ]
  },
  {
   "cell_type": "code",
   "execution_count": 9,
   "id": "50254141",
   "metadata": {},
   "outputs": [
    {
     "data": {
      "text/plain": [
       "Index(['Name', 'Age', 'Gender'], dtype='object')"
      ]
     },
     "execution_count": 9,
     "metadata": {},
     "output_type": "execute_result"
    }
   ],
   "source": [
    "people.columns"
   ]
  },
  {
   "cell_type": "code",
   "execution_count": 10,
   "id": "1d82dc1d",
   "metadata": {},
   "outputs": [
    {
     "data": {
      "text/plain": [
       "Name      object\n",
       "Age        int64\n",
       "Gender    object\n",
       "dtype: object"
      ]
     },
     "execution_count": 10,
     "metadata": {},
     "output_type": "execute_result"
    }
   ],
   "source": [
    "people.dtypes"
   ]
  },
  {
   "cell_type": "code",
   "execution_count": 11,
   "id": "de4424a8",
   "metadata": {},
   "outputs": [
    {
     "data": {
      "text/plain": [
       "RangeIndex(start=0, stop=4, step=1)"
      ]
     },
     "execution_count": 11,
     "metadata": {},
     "output_type": "execute_result"
    }
   ],
   "source": [
    "people.index"
   ]
  },
  {
   "cell_type": "code",
   "execution_count": 12,
   "id": "dcbe444b",
   "metadata": {},
   "outputs": [
    {
     "data": {
      "text/plain": [
       "12"
      ]
     },
     "execution_count": 12,
     "metadata": {},
     "output_type": "execute_result"
    }
   ],
   "source": [
    "people.size"
   ]
  },
  {
   "cell_type": "code",
   "execution_count": 13,
   "id": "f0acfccb",
   "metadata": {},
   "outputs": [
    {
     "data": {
      "text/html": [
       "<div>\n",
       "<style scoped>\n",
       "    .dataframe tbody tr th:only-of-type {\n",
       "        vertical-align: middle;\n",
       "    }\n",
       "\n",
       "    .dataframe tbody tr th {\n",
       "        vertical-align: top;\n",
       "    }\n",
       "\n",
       "    .dataframe thead th {\n",
       "        text-align: right;\n",
       "    }\n",
       "</style>\n",
       "<table border=\"1\" class=\"dataframe\">\n",
       "  <thead>\n",
       "    <tr style=\"text-align: right;\">\n",
       "      <th></th>\n",
       "      <th>Name</th>\n",
       "      <th>Age</th>\n",
       "      <th>Gender</th>\n",
       "    </tr>\n",
       "  </thead>\n",
       "  <tbody>\n",
       "    <tr>\n",
       "      <th>110</th>\n",
       "      <td>John</td>\n",
       "      <td>20</td>\n",
       "      <td>M</td>\n",
       "    </tr>\n",
       "    <tr>\n",
       "      <th>120</th>\n",
       "      <td>Ann</td>\n",
       "      <td>25</td>\n",
       "      <td>F</td>\n",
       "    </tr>\n",
       "    <tr>\n",
       "      <th>130</th>\n",
       "      <td>Adam</td>\n",
       "      <td>30</td>\n",
       "      <td>M</td>\n",
       "    </tr>\n",
       "    <tr>\n",
       "      <th>140</th>\n",
       "      <td>Melisa</td>\n",
       "      <td>35</td>\n",
       "      <td>F</td>\n",
       "    </tr>\n",
       "  </tbody>\n",
       "</table>\n",
       "</div>"
      ],
      "text/plain": [
       "       Name  Age Gender\n",
       "110    John   20      M\n",
       "120     Ann   25      F\n",
       "130    Adam   30      M\n",
       "140  Melisa   35      F"
      ]
     },
     "execution_count": 13,
     "metadata": {},
     "output_type": "execute_result"
    }
   ],
   "source": [
    "people = pd.DataFrame([\n",
    "    ['John', 20, 'M'],\n",
    "    ['Ann', 25, 'F'],\n",
    "    ['Adam', 30, 'M'],\n",
    "    ['Melisa', 35, 'F']\n",
    "], \n",
    "    columns=['Name', 'Age', 'Gender'],\n",
    "    index=[110, 120, 130, 140]\n",
    ")\n",
    "people"
   ]
  },
  {
   "cell_type": "code",
   "execution_count": 14,
   "id": "0ecf02a8",
   "metadata": {},
   "outputs": [
    {
     "data": {
      "text/plain": [
       "Int64Index([110, 120, 130, 140], dtype='int64')"
      ]
     },
     "execution_count": 14,
     "metadata": {},
     "output_type": "execute_result"
    }
   ],
   "source": [
    "people.index"
   ]
  },
  {
   "cell_type": "code",
   "execution_count": 16,
   "id": "783b1fb7",
   "metadata": {},
   "outputs": [
    {
     "data": {
      "text/html": [
       "<div>\n",
       "<style scoped>\n",
       "    .dataframe tbody tr th:only-of-type {\n",
       "        vertical-align: middle;\n",
       "    }\n",
       "\n",
       "    .dataframe tbody tr th {\n",
       "        vertical-align: top;\n",
       "    }\n",
       "\n",
       "    .dataframe thead th {\n",
       "        text-align: right;\n",
       "    }\n",
       "</style>\n",
       "<table border=\"1\" class=\"dataframe\">\n",
       "  <thead>\n",
       "    <tr style=\"text-align: right;\">\n",
       "      <th></th>\n",
       "      <th>Name</th>\n",
       "      <th>Age</th>\n",
       "      <th>Gender</th>\n",
       "    </tr>\n",
       "  </thead>\n",
       "  <tbody>\n",
       "    <tr>\n",
       "      <th>110</th>\n",
       "      <td>John</td>\n",
       "      <td>20</td>\n",
       "      <td>M</td>\n",
       "    </tr>\n",
       "    <tr>\n",
       "      <th>120</th>\n",
       "      <td>Ann</td>\n",
       "      <td>25</td>\n",
       "      <td>F</td>\n",
       "    </tr>\n",
       "    <tr>\n",
       "      <th>130</th>\n",
       "      <td>Adam</td>\n",
       "      <td>30</td>\n",
       "      <td>M</td>\n",
       "    </tr>\n",
       "    <tr>\n",
       "      <th>140</th>\n",
       "      <td>Melisa</td>\n",
       "      <td>35</td>\n",
       "      <td>F</td>\n",
       "    </tr>\n",
       "  </tbody>\n",
       "</table>\n",
       "</div>"
      ],
      "text/plain": [
       "       Name  Age Gender\n",
       "110    John   20      M\n",
       "120     Ann   25      F\n",
       "130    Adam   30      M\n",
       "140  Melisa   35      F"
      ]
     },
     "execution_count": 16,
     "metadata": {},
     "output_type": "execute_result"
    }
   ],
   "source": [
    "# we can provide data by columns / series\n",
    "people = pd.DataFrame({\n",
    "    'Name': ['John', 'Ann', 'Adam', 'Melisa'],\n",
    "    'Age': [20, 25, 30, 35],\n",
    "    'Gender': ['M', 'F', 'M', 'F'],\n",
    "}, \n",
    "    index=[110, 120, 130, 140]\n",
    ")\n",
    "people"
   ]
  },
  {
   "cell_type": "code",
   "execution_count": null,
   "id": "7b8f7689",
   "metadata": {},
   "outputs": [],
   "source": []
  }
 ],
 "metadata": {
  "kernelspec": {
   "display_name": "Python 3 (ipykernel)",
   "language": "python",
   "name": "python3"
  },
  "language_info": {
   "codemirror_mode": {
    "name": "ipython",
    "version": 3
   },
   "file_extension": ".py",
   "mimetype": "text/x-python",
   "name": "python",
   "nbconvert_exporter": "python",
   "pygments_lexer": "ipython3",
   "version": "3.9.7"
  }
 },
 "nbformat": 4,
 "nbformat_minor": 5
}
